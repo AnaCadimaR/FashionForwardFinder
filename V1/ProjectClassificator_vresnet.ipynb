{
  "nbformat": 4,
  "nbformat_minor": 0,
  "metadata": {
    "colab": {
      "provenance": []
    },
    "kernelspec": {
      "name": "python3",
      "display_name": "Python 3"
    },
    "language_info": {
      "name": "python"
    }
  },
  "cells": [
    {
      "cell_type": "code",
      "execution_count": null,
      "metadata": {
        "colab": {
          "base_uri": "https://localhost:8080/"
        },
        "id": "9ya8h84z5T_k",
        "outputId": "6bd55771-7bdf-4f6a-8c64-a9b0820a943f"
      },
      "outputs": [
        {
          "output_type": "stream",
          "name": "stdout",
          "text": [
            "Mounted at /content/drive\n",
            "Downloading data from https://storage.googleapis.com/tensorflow/keras-applications/resnet/resnet50_weights_tf_dim_ordering_tf_kernels_notop.h5\n",
            "\u001b[1m94765736/94765736\u001b[0m \u001b[32m━━━━━━━━━━━━━━━━━━━━\u001b[0m\u001b[37m\u001b[0m \u001b[1m0s\u001b[0m 0us/step\n",
            "Epoch 1/10\n",
            "\u001b[1m4/4\u001b[0m \u001b[32m━━━━━━━━━━━━━━━━━━━━\u001b[0m\u001b[37m\u001b[0m \u001b[1m33s\u001b[0m 4s/step - attribute_output_accuracy: 0.0785 - attribute_output_loss: 0.7573 - category_output_accuracy: 0.1123 - category_output_loss: 3.1604 - loss: 3.9830\n",
            "Epoch 2/10\n",
            "\u001b[1m4/4\u001b[0m \u001b[32m━━━━━━━━━━━━━━━━━━━━\u001b[0m\u001b[37m\u001b[0m \u001b[1m46s\u001b[0m 6s/step - attribute_output_accuracy: 0.0803 - attribute_output_loss: 0.5428 - category_output_accuracy: 0.2552 - category_output_loss: 2.9526 - loss: 3.4670\n",
            "Epoch 3/10\n",
            "\u001b[1m4/4\u001b[0m \u001b[32m━━━━━━━━━━━━━━━━━━━━\u001b[0m\u001b[37m\u001b[0m \u001b[1m34s\u001b[0m 5s/step - attribute_output_accuracy: 0.0707 - attribute_output_loss: 0.5348 - category_output_accuracy: 0.2894 - category_output_loss: 2.9175 - loss: 3.3154\n",
            "Epoch 4/10\n",
            "\u001b[1m4/4\u001b[0m \u001b[32m━━━━━━━━━━━━━━━━━━━━\u001b[0m\u001b[37m\u001b[0m \u001b[1m23s\u001b[0m 5s/step - attribute_output_accuracy: 0.0490 - attribute_output_loss: 0.5010 - category_output_accuracy: 0.2161 - category_output_loss: 2.7745 - loss: 3.2831\n",
            "Epoch 5/10\n",
            "\u001b[1m4/4\u001b[0m \u001b[32m━━━━━━━━━━━━━━━━━━━━\u001b[0m\u001b[37m\u001b[0m \u001b[1m41s\u001b[0m 5s/step - attribute_output_accuracy: 0.0827 - attribute_output_loss: 0.4742 - category_output_accuracy: 0.1760 - category_output_loss: 2.7256 - loss: 3.2113\n",
            "Epoch 6/10\n",
            "\u001b[1m4/4\u001b[0m \u001b[32m━━━━━━━━━━━━━━━━━━━━\u001b[0m\u001b[37m\u001b[0m \u001b[1m39s\u001b[0m 4s/step - attribute_output_accuracy: 0.0768 - attribute_output_loss: 0.4765 - category_output_accuracy: 0.1240 - category_output_loss: 2.7310 - loss: 3.2332\n",
            "Epoch 7/10\n",
            "\u001b[1m4/4\u001b[0m \u001b[32m━━━━━━━━━━━━━━━━━━━━\u001b[0m\u001b[37m\u001b[0m \u001b[1m21s\u001b[0m 5s/step - attribute_output_accuracy: 0.0101 - attribute_output_loss: 0.4745 - category_output_accuracy: 0.2378 - category_output_loss: 2.8278 - loss: 3.2946\n",
            "Epoch 8/10\n",
            "\u001b[1m4/4\u001b[0m \u001b[32m━━━━━━━━━━━━━━━━━━━━\u001b[0m\u001b[37m\u001b[0m \u001b[1m41s\u001b[0m 5s/step - attribute_output_accuracy: 0.0184 - attribute_output_loss: 0.4788 - category_output_accuracy: 0.2635 - category_output_loss: 2.6980 - loss: 3.2182\n",
            "Epoch 9/10\n",
            "\u001b[1m4/4\u001b[0m \u001b[32m━━━━━━━━━━━━━━━━━━━━\u001b[0m\u001b[37m\u001b[0m \u001b[1m40s\u001b[0m 4s/step - attribute_output_accuracy: 0.0000e+00 - attribute_output_loss: 0.4487 - category_output_accuracy: 0.2488 - category_output_loss: 2.7451 - loss: 3.1022\n",
            "Epoch 10/10\n",
            "\u001b[1m4/4\u001b[0m \u001b[32m━━━━━━━━━━━━━━━━━━━━\u001b[0m\u001b[37m\u001b[0m \u001b[1m47s\u001b[0m 7s/step - attribute_output_accuracy: 0.0155 - attribute_output_loss: 0.4606 - category_output_accuracy: 0.2693 - category_output_loss: 2.6214 - loss: 3.1148\n"
          ]
        }
      ],
      "source": [
        "import os\n",
        "import numpy as np\n",
        "import tensorflow as tf\n",
        "from tensorflow.keras.applications import ResNet50\n",
        "from tensorflow.keras.models import Model\n",
        "from tensorflow.keras.layers import Input, Dense, Dropout, Flatten, GlobalAveragePooling2D\n",
        "from tensorflow.keras.preprocessing.image import load_img, img_to_array\n",
        "from google.colab import drive\n",
        "\n",
        "drive.mount('/content/drive')\n",
        "BASE_PATH = \"/content/drive/MyDrive/Project/\"\n",
        "\n",
        "# Load image paths\n",
        "train_txt_path = os.path.join(BASE_PATH, \"Category and Attribute Prediction Benchmark/Anno_fine/train.txt\")\n",
        "train_cate_path = os.path.join(BASE_PATH, \"Category and Attribute Prediction Benchmark/Anno_fine/train_cate.txt\")\n",
        "train_attr_path = os.path.join(BASE_PATH, \"Category and Attribute Prediction Benchmark/Anno_fine/train_attr.txt\")\n",
        "\n",
        "with open(train_txt_path, \"r\") as f:\n",
        "    image_paths = [line.strip() for line in f.readlines()]\n",
        "\n",
        "with open(train_cate_path, \"r\") as f:\n",
        "    category_labels = np.array([int(line.strip()) for line in f.readlines()])\n",
        "\n",
        "with open(train_attr_path, \"r\") as f:\n",
        "    attribute_labels = np.array([[int(x) for x in line.split()] for line in f.readlines()])\n",
        "\n",
        "# Only the first 100 records\n",
        "image_paths = image_paths[:100]\n",
        "category_labels = category_labels[:100]\n",
        "attribute_labels = attribute_labels[:100]\n",
        "\n",
        "# Convert category labels to zero-based indexing\n",
        "unique_categories = sorted(set(category_labels))\n",
        "category_to_index = {cat: idx for idx, cat in enumerate(unique_categories)}\n",
        "category_labels = np.array([category_to_index[cat] for cat in category_labels])\n",
        "\n",
        "# Get correct number of categories and attributes\n",
        "num_categories = len(unique_categories)\n",
        "num_attributes = attribute_labels.shape[1]\n",
        "\n",
        "# Function to load and preprocess images\n",
        "def load_and_preprocess_image(path, target_size=(224, 224)):\n",
        "    try:\n",
        "        img = load_img(os.path.join(BASE_PATH, path), target_size=target_size)\n",
        "        img_array = img_to_array(img) / 255.0\n",
        "        return img_array\n",
        "    except Exception as e:\n",
        "        print(f\"Error loading {path}: {e}\")\n",
        "        return None\n",
        "\n",
        "# Load images\n",
        "images = [load_and_preprocess_image(path) for path in image_paths]\n",
        "images = np.array([img for img in images if img is not None])\n",
        "\n",
        "# Ensure dataset consistency\n",
        "category_labels = category_labels[:len(images)]\n",
        "attribute_labels = attribute_labels[:len(images)]\n",
        "\n",
        "# Load pre-trained ResNet-50 model without top layers\n",
        "base_model = ResNet50(weights=\"imagenet\", include_top=False, input_shape=(224, 224, 3))\n",
        "base_model.trainable = False  # Freeze ResNet-50 layers\n",
        "\n",
        "# Feature extraction\n",
        "x = base_model.output\n",
        "x = GlobalAveragePooling2D()(x)\n",
        "\n",
        "# Classification Head (for categories)\n",
        "category_output = Dense(128, activation=\"relu\")(x)\n",
        "category_output = Dropout(0.5)(category_output)\n",
        "category_output = Dense(num_categories, activation=\"softmax\", name=\"category_output\")(category_output)\n",
        "\n",
        "# Attribute Head (for multi-label classification)\n",
        "attribute_output = Dense(128, activation=\"relu\")(x)\n",
        "attribute_output = Dropout(0.5)(attribute_output)\n",
        "attribute_output = Dense(num_attributes, activation=\"sigmoid\", name=\"attribute_output\")(attribute_output)\n",
        "\n",
        "# Define the model\n",
        "model = Model(inputs=base_model.input, outputs=[category_output, attribute_output])\n",
        "\n",
        "# Compile the model\n",
        "model.compile(\n",
        "    optimizer=\"adam\",\n",
        "    loss={\"category_output\": \"sparse_categorical_crossentropy\", \"attribute_output\": \"binary_crossentropy\"},\n",
        "    metrics={\"category_output\": \"accuracy\", \"attribute_output\": \"accuracy\"}\n",
        ")\n",
        "\n",
        "# Train the model\n",
        "history = model.fit(images, {\"category_output\": category_labels, \"attribute_output\": attribute_labels}, epochs=10, batch_size=32)"
      ]
    },
    {
      "cell_type": "code",
      "source": [
        "import matplotlib.pyplot as plt\n",
        "plt.xlabel('Epoch Number - (Iterations)')\n",
        "plt.ylabel(\"Loss Magnitude\")\n",
        "plt.plot(history.history['loss'])"
      ],
      "metadata": {
        "colab": {
          "base_uri": "https://localhost:8080/",
          "height": 467
        },
        "id": "NvxPihXw6SFF",
        "outputId": "cc0bd8f2-c0f1-45e5-89dd-bf94720b68b7"
      },
      "execution_count": null,
      "outputs": [
        {
          "output_type": "execute_result",
          "data": {
            "text/plain": [
              "[<matplotlib.lines.Line2D at 0x7f0083304b10>]"
            ]
          },
          "metadata": {},
          "execution_count": 2
        },
        {
          "output_type": "display_data",
          "data": {
            "text/plain": [
              "<Figure size 640x480 with 1 Axes>"
            ],
            "image/png": "[encoded data removed]"
          },
          "metadata": {}
        }
      ]
    },
    {
      "cell_type": "code",
      "source": [
        "#Predicting the model\n",
        "def predict_image(model, image_path):\n",
        "    img = load_and_preprocess_image(image_path)\n",
        "    img = np.expand_dims(img, axis=0)  # Add batch dimension\n",
        "    category_pred, attr_pred = model.predict(img)\n",
        "    print(f\"Predicted Category: {np.argmax(category_pred)}\")\n",
        "    print(f\"Predicted Attributes: {np.round(attr_pred)}\")\n",
        "\n",
        "predict_image(model, \"img/Sweet_Crochet_Blouse/img_00000070.jpg\")"
      ],
      "metadata": {
        "colab": {
          "base_uri": "https://localhost:8080/"
        },
        "id": "l6pt0lDS6U2X",
        "outputId": "25e3274b-76a4-46bf-9609-2db8799833a5"
      },
      "execution_count": null,
      "outputs": [
        {
          "output_type": "stream",
          "name": "stdout",
          "text": [
            "\u001b[1m1/1\u001b[0m \u001b[32m━━━━━━━━━━━━━━━━━━━━\u001b[0m\u001b[37m\u001b[0m \u001b[1m4s\u001b[0m 4s/step\n",
            "Predicted Category: 18\n",
            "Predicted Attributes: [[0. 0. 0. 0. 0. 0. 0. 0. 0. 1. 0. 0. 1. 0. 0. 0. 0. 0. 0. 1. 0. 0. 0. 0.\n",
            "  0. 1.]]\n"
          ]
        }
      ]
    }
  ]
}