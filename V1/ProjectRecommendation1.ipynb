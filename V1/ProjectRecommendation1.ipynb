{
  "nbformat": 4,
  "nbformat_minor": 0,
  "metadata": {
    "colab": {
      "provenance": []
    },
    "kernelspec": {
      "name": "python3",
      "display_name": "Python 3"
    },
    "language_info": {
      "name": "python"
    }
  },
  "cells": [
    {
      "cell_type": "code",
      "execution_count": null,
      "metadata": {
        "colab": {
          "base_uri": "https://localhost:8080/"
        },
        "id": "xeGWWksjj78p",
        "outputId": "b4977a9e-49fb-46d2-a83b-ef9105f86933"
      },
      "outputs": [
        {
          "output_type": "stream",
          "name": "stdout",
          "text": [
            "Collecting python-Levenshtein\n",
            "  Downloading python_Levenshtein-0.26.1-py3-none-any.whl.metadata (3.7 kB)\n",
            "Collecting Levenshtein==0.26.1 (from python-Levenshtein)\n",
            "  Downloading levenshtein-0.26.1-cp311-cp311-manylinux_2_17_x86_64.manylinux2014_x86_64.whl.metadata (3.2 kB)\n",
            "Collecting rapidfuzz<4.0.0,>=3.9.0 (from Levenshtein==0.26.1->python-Levenshtein)\n",
            "  Downloading rapidfuzz-3.12.1-cp311-cp311-manylinux_2_17_x86_64.manylinux2014_x86_64.whl.metadata (11 kB)\n",
            "Downloading python_Levenshtein-0.26.1-py3-none-any.whl (9.4 kB)\n",
            "Downloading levenshtein-0.26.1-cp311-cp311-manylinux_2_17_x86_64.manylinux2014_x86_64.whl (162 kB)\n",
            "\u001b[2K   \u001b[90m━━━━━━━━━━━━━━━━━━━━━━━━━━━━━━━━━━━━━━━━\u001b[0m \u001b[32m162.7/162.7 kB\u001b[0m \u001b[31m3.5 MB/s\u001b[0m eta \u001b[36m0:00:00\u001b[0m\n",
            "\u001b[?25hDownloading rapidfuzz-3.12.1-cp311-cp311-manylinux_2_17_x86_64.manylinux2014_x86_64.whl (3.1 MB)\n",
            "\u001b[2K   \u001b[90m━━━━━━━━━━━━━━━━━━━━━━━━━━━━━━━━━━━━━━━━\u001b[0m \u001b[32m3.1/3.1 MB\u001b[0m \u001b[31m38.5 MB/s\u001b[0m eta \u001b[36m0:00:00\u001b[0m\n",
            "\u001b[?25hInstalling collected packages: rapidfuzz, Levenshtein, python-Levenshtein\n",
            "Successfully installed Levenshtein-0.26.1 python-Levenshtein-0.26.1 rapidfuzz-3.12.1\n"
          ]
        }
      ],
      "source": [
        "!pip install python-Levenshtein"
      ]
    },
    {
      "cell_type": "code",
      "execution_count": null,
      "metadata": {
        "colab": {
          "base_uri": "https://localhost:8080/",
          "height": 35
        },
        "id": "g-zCzsXMXlQP",
        "outputId": "604f6c69-67d2-4a5d-bc6e-a66dbdefd1bf"
      },
      "outputs": [
        {
          "output_type": "display_data",
          "data": {
            "text/plain": [
              "<IPython.core.display.Javascript object>"
            ],
            "application/javascript": [
              "\n",
              "    async function download(id, filename, size) {\n",
              "      if (!google.colab.kernel.accessAllowed) {\n",
              "        return;\n",
              "      }\n",
              "      const div = document.createElement('div');\n",
              "      const label = document.createElement('label');\n",
              "      label.textContent = `Downloading \"${filename}\": `;\n",
              "      div.appendChild(label);\n",
              "      const progress = document.createElement('progress');\n",
              "      progress.max = size;\n",
              "      div.appendChild(progress);\n",
              "      document.body.appendChild(div);\n",
              "\n",
              "      const buffers = [];\n",
              "      let downloaded = 0;\n",
              "\n",
              "      const channel = await google.colab.kernel.comms.open(id);\n",
              "      // Send a message to notify the kernel that we're ready.\n",
              "      channel.send({})\n",
              "\n",
              "      for await (const message of channel.messages) {\n",
              "        // Send a message to notify the kernel that we're ready.\n",
              "        channel.send({})\n",
              "        if (message.buffers) {\n",
              "          for (const buffer of message.buffers) {\n",
              "            buffers.push(buffer);\n",
              "            downloaded += buffer.byteLength;\n",
              "            progress.value = downloaded;\n",
              "          }\n",
              "        }\n",
              "      }\n",
              "      const blob = new Blob(buffers, {type: 'application/binary'});\n",
              "      const a = document.createElement('a');\n",
              "      a.href = window.URL.createObjectURL(blob);\n",
              "      a.download = filename;\n",
              "      div.appendChild(a);\n",
              "      a.click();\n",
              "      div.remove();\n",
              "    }\n",
              "  "
            ]
          },
          "metadata": {}
        },
        {
          "output_type": "display_data",
          "data": {
            "text/plain": [
              "<IPython.core.display.Javascript object>"
            ],
            "application/javascript": [
              "download(\"download_cd4411e5-7678-4cae-958b-7ca6ca339c36\", \"amazon_results.html\", 9613)"
            ]
          },
          "metadata": {}
        },
        {
          "output_type": "display_data",
          "data": {
            "text/plain": [
              "<IPython.core.display.Javascript object>"
            ],
            "application/javascript": [
              "\n",
              "    async function download(id, filename, size) {\n",
              "      if (!google.colab.kernel.accessAllowed) {\n",
              "        return;\n",
              "      }\n",
              "      const div = document.createElement('div');\n",
              "      const label = document.createElement('label');\n",
              "      label.textContent = `Downloading \"${filename}\": `;\n",
              "      div.appendChild(label);\n",
              "      const progress = document.createElement('progress');\n",
              "      progress.max = size;\n",
              "      div.appendChild(progress);\n",
              "      document.body.appendChild(div);\n",
              "\n",
              "      const buffers = [];\n",
              "      let downloaded = 0;\n",
              "\n",
              "      const channel = await google.colab.kernel.comms.open(id);\n",
              "      // Send a message to notify the kernel that we're ready.\n",
              "      channel.send({})\n",
              "\n",
              "      for await (const message of channel.messages) {\n",
              "        // Send a message to notify the kernel that we're ready.\n",
              "        channel.send({})\n",
              "        if (message.buffers) {\n",
              "          for (const buffer of message.buffers) {\n",
              "            buffers.push(buffer);\n",
              "            downloaded += buffer.byteLength;\n",
              "            progress.value = downloaded;\n",
              "          }\n",
              "        }\n",
              "      }\n",
              "      const blob = new Blob(buffers, {type: 'application/binary'});\n",
              "      const a = document.createElement('a');\n",
              "      a.href = window.URL.createObjectURL(blob);\n",
              "      a.download = filename;\n",
              "      div.appendChild(a);\n",
              "      a.click();\n",
              "      div.remove();\n",
              "    }\n",
              "  "
            ]
          },
          "metadata": {}
        },
        {
          "output_type": "display_data",
          "data": {
            "text/plain": [
              "<IPython.core.display.Javascript object>"
            ],
            "application/javascript": [
              "download(\"download_7f3ff7af-6f91-451e-9cae-34391a4ded95\", \"amazon_results.json\", 8117)"
            ]
          },
          "metadata": {}
        },
        {
          "output_type": "stream",
          "name": "stdout",
          "text": [
            "Download started: amazon_results.html and amazon_results.json with max 10 results\n"
          ]
        }
      ],
      "source": [
        "#\"d0538c68-2a77-4af5-b406-bdb5002a6f32\"\n",
        "import requests\n",
        "import json\n",
        "import Levenshtein\n",
        "from google.colab import files\n",
        "\n",
        "url = \"https://graphql.canopyapi.co/\"\n",
        "\n",
        "headers = {\n",
        "    \"Content-Type\": \"application/json\",\n",
        "    #\"API-KEY\":\"eeda37d1-b608-408c-aafd-9f9d48a63d64\",\n",
        "}\n",
        "\n",
        "query = \"\"\"\n",
        "    query amazonProduct($searchKeyWord: String!) {\n",
        "        amazonProductSearchResults(\n",
        "            input: {\n",
        "                searchTerm: $searchKeyWord,\n",
        "                domain: CA\n",
        "            }) {\n",
        "            productResults {\n",
        "                results {\n",
        "                    title\n",
        "                    brand\n",
        "                    url\n",
        "                    isNew\n",
        "                    price {\n",
        "                        display\n",
        "                    }\n",
        "                    rating\n",
        "                    mainImageUrl\n",
        "                }\n",
        "            }\n",
        "        }\n",
        "    }\n",
        "\"\"\"\n",
        "\n",
        "def fetch_amazon_products(search_keyword):\n",
        "    #Fetches Amazon products using the GraphQL API.\n",
        "    variables = {\"searchKeyWord\": search_keyword}\n",
        "    payload = {\"query\": query, \"variables\": variables}\n",
        "\n",
        "    response = requests.post(url, headers=headers, json=payload)\n",
        "\n",
        "    if response.status_code == 200:\n",
        "        data = response.json()\n",
        "        return data.get(\"data\", {}).get(\"amazonProductSearchResults\", {}).get(\"productResults\", {}).get(\"results\", [])\n",
        "    else:\n",
        "        print(f\"Error {response.status_code}: {response.text}\")\n",
        "        return []\n",
        "\n",
        "#Similarity search\n",
        "\n",
        "\n",
        "def calculate_similarity(title, search_keyword):\n",
        "    #Calculates similarity between the search keyword and product title using Levenshtein distance.\n",
        "    return 1 - (Levenshtein.distance(title.lower(), search_keyword.lower()) / max(len(title), len(search_keyword)))\n",
        "\n",
        "def filter_relevant_results(results, search_keyword, max_results=10, threshold=0.4):\n",
        "\n",
        "    #Filters products using nearest neighbor logic with Levenshtein similarity.\n",
        "    #- Ensures up to `max_results` are returned.\n",
        "    #- Adjusted threshold lower to include more matches.\n",
        "\n",
        "    scored_results = [(product, calculate_similarity(product.get(\"title\", \"\"), search_keyword)) for product in results]\n",
        "\n",
        "    # Sort all results by similarity score\n",
        "    scored_results.sort(key=lambda x: x[1], reverse=True)\n",
        "\n",
        "    # Filter only those above the similarity threshold\n",
        "    relevant_results = [item[0] for item in scored_results if item[1] >= threshold]\n",
        "\n",
        "    # If not enough results pass the threshold, return top `max_results` anyway\n",
        "    if len(relevant_results) < max_results:\n",
        "        relevant_results = [item[0] for item in scored_results[:max_results]]\n",
        "\n",
        "    return relevant_results[:max_results]  # Ensure we only return `max_results` items\n",
        "\n",
        "def generate_html(results):\n",
        "    #Generates an HTML table with product details.\n",
        "    if not results:\n",
        "        return \"<p>No relevant products found.</p>\"\n",
        "\n",
        "    html = \"\"\"\n",
        "    <html>\n",
        "    <head>\n",
        "        <title>Amazon Product Search Results</title>\n",
        "        <style>\n",
        "            table { width: 100%%; border-collapse: collapse; }\n",
        "            th, td { border: 1px solid #ddd; padding: 8px; text-align: left; }\n",
        "            th { background-color: #f4f4f4; }\n",
        "            img { width: 100px; height: auto; }\n",
        "        </style>\n",
        "    </head>\n",
        "    <body>\n",
        "        <h2>Amazon Product Search Results</h2>\n",
        "        <table>\n",
        "            <tr>\n",
        "                <th>Image</th>\n",
        "                <th>Title</th>\n",
        "                <th>Brand</th>\n",
        "                <th>Price</th>\n",
        "                <th>Rating</th>\n",
        "                <th>Link</th>\n",
        "            </tr>\n",
        "    \"\"\"\n",
        "\n",
        "    for product in results:\n",
        "        html += f\"\"\"\n",
        "            <tr>\n",
        "                <td><img src=\"{product.get('mainImageUrl', '#')}\" alt=\"Product Image\"></td>\n",
        "                <td>{product.get('title', 'N/A')}</td>\n",
        "                <td>{product.get('brand', 'N/A')}</td>\n",
        "                <td>{product.get('price', {}).get('display', 'Not Available') if product.get('price') else 'Not Available'}</td>\n",
        "                <td>{product.get('rating', 'N/A')}</td>\n",
        "                <td><a href=\"{product.get('url', '#')}\" target=\"_blank\">View Product</a></td>\n",
        "            </tr>\n",
        "        \"\"\"\n",
        "\n",
        "    html += \"\"\"\n",
        "        </table>\n",
        "    </body>\n",
        "    </html>\n",
        "    \"\"\"\n",
        "    return html\n",
        "\n",
        "def generate_json(results):\n",
        "    #Generates a JSON representation of the filtered results.\n",
        "    return json.dumps(results, indent=4)\n",
        "\n",
        "# Example usage\n",
        "search_keyword = \"Columbia shoes\"\n",
        "max_suggestions = 10  # Set max number of suggestions dynamically\n",
        "\n",
        "all_results = fetch_amazon_products(search_keyword)\n",
        "filtered_results = filter_relevant_results(all_results, search_keyword, max_results=max_suggestions)\n",
        "\n",
        "# Generate HTML and JSON outputs\n",
        "html_output = generate_html(filtered_results)\n",
        "json_output = generate_json(filtered_results)\n",
        "\n",
        "# Save files\n",
        "html_filename = \"amazon_results.html\"\n",
        "json_filename = \"amazon_results.json\"\n",
        "\n",
        "with open(html_filename, \"w\", encoding=\"utf-8\") as file:\n",
        "    file.write(html_output)\n",
        "\n",
        "with open(json_filename, \"w\", encoding=\"utf-8\") as file:\n",
        "    file.write(json_output)\n",
        "\n",
        "# Download the files in Google Colab\n",
        "files.download(html_filename)\n",
        "files.download(json_filename)\n",
        "\n",
        "print(f\"Download started: {html_filename} and {json_filename} with max {max_suggestions} results\")\n"
      ]
    },
    {
      "cell_type": "code",
      "source": [],
      "metadata": {
        "id": "1tzh_dbJBKah"
      },
      "execution_count": null,
      "outputs": []
    }
  ]
}