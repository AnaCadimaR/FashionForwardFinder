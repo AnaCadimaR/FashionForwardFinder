"""
Test the trained model on a sample image to predict clothing category and attributes.

This script:
- Loads the trained model from disk
- Preprocesses a test image
- Predicts category and attribute probabilities
- Converts predictions to human-readable labels
- Constructs a search keyword string for product lookup

Dependencies:
    - Trained model saved at `MODEL_SAVE_PATH`
    - Image defined by `TEST_IMAGE_PATH`
    - CATEGORY_NAMES and ATTRIBUTE_NAMES for label mapping
    - Utility functions from `utilities.py`
"""

import numpy as np
from tensorflow.keras.models import load_model
from utilities import *
from config import *

# Load the trained model
model = load_model(MODEL_SAVE_PATH)

# Preprocess the test image into model-compatible format
test_image = preprocess_test_image(TEST_IMAGE_PATH)

# Generate predictions from the model
category_pred, attribute_pred = model.predict(test_image)

# Display raw model outputs
print(f"Predicted Attributes (raw): {attribute_pred}")
print(f"Predicted Category (raw): {category_pred}")

# Process predictions: Get predicted class index and binary attribute vector
predicted_category = convert_to_category_output(category_pred)
predicted_attributes = convert_to_attribute_output(attribute_pred)

# Print interpreted predictions
print(f"Predicted Category Index: {predicted_category}")
print(f"Predicted Attribute Flags: {predicted_attributes}")

# Retrieve human-readable category and attribute descriptions
category_name = CATEGORY_NAMES[predicted_category]
attribute_names = [
    ATTRIBUTE_NAMES[i + 1]
    for i, val in enumerate(predicted_attributes[0])
    if val == 1
]

# Construct a keyword string from predictions
keyword = get_search_keyword_from_prediction(predicted_category, predicted_attributes)

# Output readable results
print(f"Predicted Category: {category_name['desc']} | Predicted Attributes: {', '.join([a['desc'] for a in attribute_names])}")
print(f"Search Keyword: {keyword}")
