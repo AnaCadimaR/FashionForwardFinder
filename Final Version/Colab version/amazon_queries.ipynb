"""
Amazon GraphQL Query

This module defines the GraphQL query string used to fetch Amazon product search results
via the Canopy API. The query accepts a single variable: `searchKeyWord`, which is the
text string generated from a model's predicted category and attributes.

The API returns:
- Product title, brand, and URL
- Pricing information
- Rating and image URL
- Whether the item is new

Used in: utilities.fetch_amazon_products(...)
"""

GET_PRODUCTS_QUERY = """
    query amazonProduct($searchKeyWord: String!) {
        amazonProductSearchResults(
            input: {
                searchTerm: $searchKeyWord,
                domain: CA
            }) {
            productResults {
                results {
                    title
                    brand
                    url
                    isNew
                    price {
                        display
                    }
                    rating
                    mainImageUrl
                }
            }
        }
    }
"""
