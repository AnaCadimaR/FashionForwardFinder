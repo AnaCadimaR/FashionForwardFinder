{
  "nbformat": 4,
  "nbformat_minor": 0,
  "metadata": {
    "colab": {
      "provenance": []
    },
    "kernelspec": {
      "name": "python3",
      "display_name": "Python 3"
    },
    "language_info": {
      "name": "python"
    }
  },
  "cells": [
    {
      "cell_type": "code",
      "execution_count": null,
      "metadata": {
        "colab": {
          "base_uri": "https://localhost:8080/"
        },
        "id": "kWpNkVat1bNd",
        "outputId": "0e689d91-f717-44fd-981f-29fc4db282e5"
      },
      "outputs": [
        {
          "output_type": "stream",
          "name": "stdout",
          "text": [
            "Drive already mounted at /content/drive; to attempt to forcibly remount, call drive.mount(\"/content/drive\", force_remount=True).\n"
          ]
        }
      ],
      "source": [
        "import os\n",
        "import numpy as np\n",
        "import tensorflow as tf\n",
        "from tensorflow.keras.models import Model\n",
        "from tensorflow.keras.layers import Input, Conv2D, MaxPooling2D, Flatten, Dense, Dropout\n",
        "from tensorflow.keras.preprocessing.image import load_img, img_to_array\n",
        "from google.colab import drive\n",
        "drive.mount('/content/drive')\n",
        "BASE_PATH = \"/content/drive/MyDrive/Project/\"\n",
        "\n",
        "#Load image paths\n",
        "train_txt_path = os.path.join(BASE_PATH, \"Category and Attribute Prediction Benchmark/Anno_fine/train.txt\")\n",
        "train_cate_path = os.path.join(BASE_PATH, \"Category and Attribute Prediction Benchmark/Anno_fine/train_cate.txt\")\n",
        "train_attr_path = os.path.join(BASE_PATH, \"Category and Attribute Prediction Benchmark/Anno_fine/train_attr.txt\")\n",
        "\n",
        "with open(train_txt_path, \"r\") as f:\n",
        "    image_paths = [line.strip() for line in f.readlines()]\n",
        "\n",
        "with open(train_cate_path, \"r\") as f:\n",
        "    category_labels = np.array([int(line.strip()) for line in f.readlines()])\n",
        "\n",
        "with open(train_attr_path, \"r\") as f:\n",
        "    attribute_labels = np.array([[int(x) for x in line.split()] for line in f.readlines()])\n",
        "\n",
        "#Only the first 100 records\n",
        "image_paths = image_paths[:100]\n",
        "category_labels = category_labels[:100]\n",
        "attribute_labels = attribute_labels[:100]\n",
        "\n"
      ]
    },
    {
      "cell_type": "code",
      "source": [
        "#Ensure label consistency\n",
        "assert len(image_paths) == len(category_labels) == len(attribute_labels), \"Mismatch in data lengths\"\n",
        "\n",
        "#Fix: Convert category labels to zero-based indexing**\n",
        "unique_categories = sorted(set(category_labels))  # Get sorted unique categories\n",
        "category_to_index = {cat: idx for idx, cat in enumerate(unique_categories)}  # Create mapping\n",
        "\n",
        "#Applying mapping to category labels\n",
        "category_labels = np.array([category_to_index[cat] for cat in category_labels])\n",
        "\n",
        "#Get correct number of categories and attributes\n",
        "num_categories = len(unique_categories)  # Now correctly set\n",
        "num_attributes = attribute_labels.shape[1]\n",
        "\n",
        "print(f\"Unique Categories: {unique_categories}\")\n",
        "print(f\"Max category label after remapping: {np.max(category_labels)}\")\n",
        "print(f\"Expected num_categories: {num_categories}\")\n",
        "\n",
        "#Function to load and preprocess images\n",
        "def load_and_preprocess_image(path, target_width=224, target_height=300):\n",
        "    try:\n",
        "        img = load_img(os.path.join(BASE_PATH, path), target_size=(target_height, target_width))  # Resize image\n",
        "        img_array = img_to_array(img) / 255.0  # Normalize pixel values\n",
        "        return img_array\n",
        "    except Exception as e:\n",
        "        print(f\"Error loading {path}: {e}\")\n",
        "        return None\n",
        "\n",
        "# Load images\n",
        "images = [load_and_preprocess_image(path) for path in image_paths]\n",
        "images = np.array([img for img in images if img is not None])  # Remove failed loads\n",
        "\n",
        "# Ensure dataset consistency\n",
        "category_labels = category_labels[:len(images)]\n",
        "attribute_labels = attribute_labels[:len(images)]\n",
        "\n",
        "#Model architecture\n",
        "input_layer = Input(shape=(300, 224, 3))\n",
        "\n",
        "#Feature extraction layers (CNN)\n",
        "x = Conv2D(32, (3, 3), activation=\"relu\", padding=\"same\")(input_layer)\n",
        "x = MaxPooling2D((2, 2))(x)\n",
        "x = Conv2D(64, (3, 3), activation=\"relu\", padding=\"same\")(x)\n",
        "x = MaxPooling2D((2, 2))(x)\n",
        "x = Conv2D(128, (3, 3), activation=\"relu\", padding=\"same\")(x)\n",
        "x = MaxPooling2D((2, 2))(x)\n",
        "x = Flatten()(x)\n",
        "\n",
        "#Classification Head (for categories)\n",
        "category_output = Dense(128, activation=\"relu\")(x)\n",
        "category_output = Dropout(0.5)(category_output)\n",
        "category_output = Dense(num_categories, activation=\"softmax\", name=\"category_output\")(category_output)  # FIXED num_categories\n",
        "\n",
        "#Attribute Head (for multi-label classification)\n",
        "attribute_output = Dense(128, activation=\"relu\")(x)\n",
        "attribute_output = Dropout(0.5)(attribute_output)\n",
        "attribute_output = Dense(num_attributes, activation=\"sigmoid\", name=\"attribute_output\")(attribute_output)\n",
        "\n",
        "#Defining the model\n",
        "model = Model(inputs=input_layer, outputs=[category_output, attribute_output])\n",
        "\n",
        "#Compiling the model\n",
        "model.compile(\n",
        "    optimizer=\"adam\",\n",
        "    loss={\"category_output\": \"sparse_categorical_crossentropy\", \"attribute_output\": \"binary_crossentropy\"},\n",
        "    metrics={\"category_output\": \"accuracy\", \"attribute_output\": \"accuracy\"}\n",
        ")\n",
        "\n",
        "#Training the model w/first 100 records\n",
        "history = model.fit(images, {\"category_output\": category_labels, \"attribute_output\": attribute_labels},epochs=10,batch_size=32)"
      ],
      "metadata": {
        "colab": {
          "base_uri": "https://localhost:8080/"
        },
        "id": "YvU7cnyj1_5T",
        "outputId": "4decec97-230b-47b5-a3f6-969f709efd3c"
      },
      "execution_count": null,
      "outputs": [
        {
          "output_type": "stream",
          "name": "stdout",
          "text": [
            "Unique Categories: [0, 1, 2, 3, 4, 5, 6, 7, 8, 9, 10, 11, 12, 13, 14, 15, 16, 17, 18, 19, 20, 21]\n",
            "Max category label after remapping: 21\n",
            "Expected num_categories: 22\n",
            "Epoch 1/10\n",
            "\u001b[1m4/4\u001b[0m \u001b[32m━━━━━━━━━━━━━━━━━━━━\u001b[0m\u001b[37m\u001b[0m \u001b[1m23s\u001b[0m 4s/step - attribute_output_accuracy: 0.0155 - attribute_output_loss: 0.8850 - category_output_accuracy: 0.0520 - category_output_loss: 5.5422 - loss: 6.5913\n",
            "Epoch 2/10\n",
            "\u001b[1m4/4\u001b[0m \u001b[32m━━━━━━━━━━━━━━━━━━━━\u001b[0m\u001b[37m\u001b[0m \u001b[1m20s\u001b[0m 4s/step - attribute_output_accuracy: 0.1209 - attribute_output_loss: 0.6256 - category_output_accuracy: 0.1056 - category_output_loss: 3.1415 - loss: 3.7819\n",
            "Epoch 3/10\n",
            "\u001b[1m4/4\u001b[0m \u001b[32m━━━━━━━━━━━━━━━━━━━━\u001b[0m\u001b[37m\u001b[0m \u001b[1m21s\u001b[0m 4s/step - attribute_output_accuracy: 0.1265 - attribute_output_loss: 0.5473 - category_output_accuracy: 0.2872 - category_output_loss: 2.9622 - loss: 3.4632\n",
            "Epoch 4/10\n",
            "\u001b[1m4/4\u001b[0m \u001b[32m━━━━━━━━━━━━━━━━━━━━\u001b[0m\u001b[37m\u001b[0m \u001b[1m20s\u001b[0m 4s/step - attribute_output_accuracy: 0.0061 - attribute_output_loss: 0.5180 - category_output_accuracy: 0.2540 - category_output_loss: 2.7199 - loss: 3.2741\n",
            "Epoch 5/10\n",
            "\u001b[1m4/4\u001b[0m \u001b[32m━━━━━━━━━━━━━━━━━━━━\u001b[0m\u001b[37m\u001b[0m \u001b[1m22s\u001b[0m 4s/step - attribute_output_accuracy: 0.0000e+00 - attribute_output_loss: 0.4987 - category_output_accuracy: 0.2922 - category_output_loss: 2.7539 - loss: 3.2272\n",
            "Epoch 6/10\n",
            "\u001b[1m4/4\u001b[0m \u001b[32m━━━━━━━━━━━━━━━━━━━━\u001b[0m\u001b[37m\u001b[0m \u001b[1m19s\u001b[0m 4s/step - attribute_output_accuracy: 0.0247 - attribute_output_loss: 0.4941 - category_output_accuracy: 0.2905 - category_output_loss: 2.6102 - loss: 3.1072\n",
            "Epoch 7/10\n",
            "\u001b[1m4/4\u001b[0m \u001b[32m━━━━━━━━━━━━━━━━━━━━\u001b[0m\u001b[37m\u001b[0m \u001b[1m25s\u001b[0m 4s/step - attribute_output_accuracy: 0.0155 - attribute_output_loss: 0.4563 - category_output_accuracy: 0.3202 - category_output_loss: 2.5376 - loss: 3.0563\n",
            "Epoch 8/10\n",
            "\u001b[1m4/4\u001b[0m \u001b[32m━━━━━━━━━━━━━━━━━━━━\u001b[0m\u001b[37m\u001b[0m \u001b[1m34s\u001b[0m 4s/step - attribute_output_accuracy: 0.0000e+00 - attribute_output_loss: 0.4772 - category_output_accuracy: 0.2776 - category_output_loss: 2.6135 - loss: 3.1322\n",
            "Epoch 9/10\n",
            "\u001b[1m4/4\u001b[0m \u001b[32m━━━━━━━━━━━━━━━━━━━━\u001b[0m\u001b[37m\u001b[0m \u001b[1m21s\u001b[0m 4s/step - attribute_output_accuracy: 0.0000e+00 - attribute_output_loss: 0.4535 - category_output_accuracy: 0.3520 - category_output_loss: 2.3929 - loss: 2.8270\n",
            "Epoch 10/10\n",
            "\u001b[1m4/4\u001b[0m \u001b[32m━━━━━━━━━━━━━━━━━━━━\u001b[0m\u001b[37m\u001b[0m \u001b[1m20s\u001b[0m 4s/step - attribute_output_accuracy: 0.0306 - attribute_output_loss: 0.4214 - category_output_accuracy: 0.3054 - category_output_loss: 2.3502 - loss: 2.7159\n"
          ]
        }
      ]
    },
    {
      "cell_type": "code",
      "source": [
        "import matplotlib.pyplot as plt\n",
        "plt.xlabel('Epoch Number - (Iterations)')\n",
        "plt.ylabel(\"Loss Magnitude\")\n",
        "plt.plot(history.history['loss'])"
      ],
      "metadata": {
        "colab": {
          "base_uri": "https://localhost:8080/",
          "height": 467
        },
        "id": "MvQvmjqU3Tto",
        "outputId": "48c90998-394f-4fa6-acd1-5ca1d6611719"
      },
      "execution_count": null,
      "outputs": [
        {
          "output_type": "execute_result",
          "data": {
            "text/plain": [
              "[<matplotlib.lines.Line2D at 0x780868ad4ed0>]"
            ]
          },
          "metadata": {},
          "execution_count": 8
        },
        {
          "output_type": "display_data",
          "data": {
            "text/plain": [
              "<Figure size 640x480 with 1 Axes>"
            ],
            "image/png": "[encoded data removed]"
          },
          "metadata": {}
        }
      ]
    },
    {
      "cell_type": "code",
      "source": [
        "#Predicting the model\n",
        "def predict_image(model, image_path):\n",
        "    img = load_and_preprocess_image(image_path)\n",
        "    img = np.expand_dims(img, axis=0)  # Add batch dimension\n",
        "    category_pred, attr_pred = model.predict(img)\n",
        "    print(f\"Predicted Category: {np.argmax(category_pred)}\")\n",
        "    print(f\"Predicted Attributes: {np.round(attr_pred)}\")\n",
        "\n",
        "predict_image(model, \"img/Sweet_Crochet_Blouse/img_00000070.jpg\")"
      ],
      "metadata": {
        "colab": {
          "base_uri": "https://localhost:8080/"
        },
        "id": "2-YFbSrT3W_8",
        "outputId": "9d98fee9-83ec-469d-91b8-e599fb4138f5"
      },
      "execution_count": null,
      "outputs": [
        {
          "output_type": "stream",
          "name": "stdout",
          "text": [
            "\u001b[1m1/1\u001b[0m \u001b[32m━━━━━━━━━━━━━━━━━━━━\u001b[0m\u001b[37m\u001b[0m \u001b[1m1s\u001b[0m 722ms/step\n",
            "Predicted Category: 18\n",
            "Predicted Attributes: [[0. 0. 0. 0. 0. 0. 0. 1. 0. 1. 0. 0. 1. 0. 0. 0. 0. 0. 0. 0. 0. 0. 0. 0.\n",
            "  0. 1.]]\n"
          ]
        }
      ]
    }
  ]
}